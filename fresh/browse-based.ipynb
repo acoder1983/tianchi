{
 "cells": [
  {
   "cell_type": "code",
   "execution_count": null,
   "metadata": {
    "collapsed": true
   },
   "outputs": [],
   "source": [
    "import numpy as np\n",
    "import pandas as pd\n",
    "from time import time\n",
    "from sklearn.linear_model import LogisticRegression\n",
    "from sklearn.model_selection import cross_val_score\n",
    "from sklearn.model_selection import train_test_split\n",
    "from sklearn.linear_model import LogisticRegression\n",
    "from sklearn.metrics import roc_auc_score\n",
    "\n",
    "%matplotlib inline"
   ]
  },
  {
   "cell_type": "code",
   "execution_count": null,
   "metadata": {
    "collapsed": true
   },
   "outputs": [],
   "source": [
    "all_events=pd.read_csv('raw_data/tianchi_fresh_comp_train_user.csv')\n",
    "all_items=pd.read_csv('raw_data/tianchi_fresh_comp_train_item.csv')\n",
    "target_items=set(all_items.item_id)\n",
    "action_types=['browsed','collected','carted','bought']"
   ]
  },
  {
   "cell_type": "code",
   "execution_count": null,
   "metadata": {},
   "outputs": [],
   "source": [
    "all_users=all_events.user_id.unique()\n",
    "sample_users=all_users[:500]\n",
    "sample_events=all_events[all_events.user_id.apply(lambda uid:uid in sample_users)]\n",
    "sample_events['time']=pd.DatetimeIndex(sample_events.time)\n",
    "\n",
    "behaves=sample_events[['user_id','item_id','behavior_type','time']].pivot_table(index=['user_id','item_id'],columns='behavior_type',aggfunc='count').fillna(0)\n",
    "behaves.columns=action_types\n",
    "behaves['label']=behaves.bought.apply(lambda b:1. if b>0 else 0.)\n",
    "\n",
    "buy_behaves=behaves[behaves.label==1]\n",
    "nbuy_behaves=behaves[behaves.label==0]\n"
   ]
  },
  {
   "cell_type": "code",
   "execution_count": null,
   "metadata": {
    "collapsed": true
   },
   "outputs": [],
   "source": [
    "sample_nbuy_idx=np.random.choice(len(nbuy_behaves),len(buy_behaves))\n",
    "\n",
    "sample_behaves=pd.concat([buy_behaves,nbuy_behaves.iloc[sample_nbuy_idx]])\n",
    "\n",
    "assert(len(sample_behaves[sample_behaves.label==0])==len(sample_behaves[sample_behaves.label==1]))"
   ]
  },
  {
   "cell_type": "code",
   "execution_count": null,
   "metadata": {},
   "outputs": [],
   "source": [
    "X_train,X_test,y_train,y_test=train_test_split(sample_behaves[['browsed']],sample_behaves[['label']],test_size=.2)\n",
    "\n",
    "lr=LogisticRegression()\n",
    "lr.fit(X_train,y_train)\n",
    "roc_auc_score(y_train,lr.predict_proba(X_train)[:,1])"
   ]
  }
 ],
 "metadata": {
  "kernelspec": {
   "display_name": "Python 3",
   "language": "python",
   "name": "python3"
  },
  "language_info": {
   "codemirror_mode": {
    "name": "ipython",
    "version": 3
   },
   "file_extension": ".py",
   "mimetype": "text/x-python",
   "name": "python",
   "nbconvert_exporter": "python",
   "pygments_lexer": "ipython3",
   "version": "3.5.3"
  }
 },
 "nbformat": 4,
 "nbformat_minor": 2
}
