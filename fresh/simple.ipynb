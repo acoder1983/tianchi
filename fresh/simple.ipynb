{
 "cells": [
  {
   "cell_type": "code",
   "execution_count": null,
   "metadata": {
    "collapsed": true
   },
   "outputs": [],
   "source": [
    "import numpy as np\n",
    "import pandas as pd\n",
    "%matplotlib inline"
   ]
  },
  {
   "cell_type": "code",
   "execution_count": null,
   "metadata": {},
   "outputs": [],
   "source": [
    "all_events=pd.read_csv('raw_data/partial_events.csv')\n",
    "all_items=pd.read_csv('raw_data/tianchi_fresh_comp_train_item.csv')\n",
    "\n",
    "all_events['time']=pd.DatetimeIndex(all_events.time)\n",
    "target_items=set(all_items.item_id)\n",
    "last_time=all_events.time.sort_values().iloc[-1]\n",
    "last_day=pd.Timestamp(year=last_time.year,month=last_time.month,day=last_time.day)\n",
    "\n",
    "last_day_purchase=all_events[np.logical_and(all_events.behavior_type==4,all_events.time>=last_day)]\n",
    "val_data=last_day_purchase[last_day_purchase.item_id.apply(lambda i: i in target_items)][['user_id','item_id']]\n",
    "len(last_day_purchase),len(val_data)"
   ]
  },
  {
   "cell_type": "code",
   "execution_count": null,
   "metadata": {
    "collapsed": true
   },
   "outputs": [],
   "source": [
    "def score(y_true,y_pred):\n",
    "    true_vals=set((y_true.user_id.apply(lambda u:str(u))+'_'+y_true.item_id.apply(lambda i:str(i))).unique())\n",
    "    pred_vals=set((y_pred.user_id.apply(lambda u:str(u))+'_'+y_pred.item_id.apply(lambda i:str(i))).unique())\n",
    "    hits=len(list(filter(lambda x:x in true_vals,pred_vals)))\n",
    "    prec=hits/len(y_pred)\n",
    "    rec=hits/len(y_true)\n",
    "    return 2*prec*rec/(prec+rec),prec,rec"
   ]
  },
  {
   "cell_type": "code",
   "execution_count": null,
   "metadata": {},
   "outputs": [],
   "source": [
    "beg_day=last_day-pd.Timedelta(1,'d')\n",
    "train_events=all_events[np.logical_and(all_events.time>=beg_day,all_events.time<last_day)]\n",
    "bought_items=train_events[train_events.behavior_type==4].item_id.unique()\n",
    "train_events=train_events[train_events.item_id.apply(lambda e:e not in bought_items)]\n",
    "carted=train_events[train_events.behavior_type==3]\n",
    "carted=carted[carted.item_id.apply(lambda x:x in target_items)]\n",
    "score(val_data,carted)"
   ]
  },
  {
   "cell_type": "code",
   "execution_count": null,
   "metadata": {},
   "outputs": [],
   "source": [
    "day_before_last_day=last_day-pd.Timedelta(3,'d')\n",
    "last_day_evts=all_events[np.logical_and(all_events.time<last_day,all_events.time>day_before_last_day)]\n",
    "bought_items=last_day_evts[last_day_evts.behavior_type==4].item_id.unique()\n",
    "last_br_evts=last_day_evts[last_day_evts.behavior_type==1]\n",
    "last_br_evts=last_br_evts[last_br_evts.item_id.apply(lambda iid:iid in target_items and iid not in bought_items)]\n",
    "last_br=[]\n",
    "tmp=set(['a'])\n",
    "for i in last_br_evts.index:\n",
    "    uid=last_br_evts.loc[i,'user_id']\n",
    "    iid=last_br_evts.loc[i,'item_id']\n",
    "    k=str(uid)+'-'+str(iid)\n",
    "    c=len(last_br_evts[np.logical_and(\n",
    "        last_br_evts.user_id==uid,last_br_evts.item_id==iid)])\n",
    "    if k not in tmp and c>1:\n",
    "        last_br.append({'user_id':uid,'item_id':iid,'cnt':c})\n",
    "        tmp.add(k)\n",
    "last_br=pd.DataFrame(last_br)\n",
    "\n",
    "score(val_data,last_br)"
   ]
  },
  {
   "cell_type": "code",
   "execution_count": null,
   "metadata": {},
   "outputs": [],
   "source": [
    "last_most_br=last_br.sort_values('cnt',ascending=False)[:len(last_br)//2]\n",
    "score(val_data,last_most_br)"
   ]
  },
  {
   "cell_type": "code",
   "execution_count": null,
   "metadata": {},
   "outputs": [],
   "source": [
    "day_before_last_day=last_day-pd.Timedelta(3,'d')\n",
    "last_day_evts=all_events[np.logical_and(all_events.time<last_day,all_events.time>day_before_last_day)]\n",
    "last_br_evts=last_day_evts\n",
    "last_br=[]\n",
    "tmp=set(['a'])\n",
    "for i in last_br_evts.index:\n",
    "    uid=last_br_evts.loc[i,'user_id']\n",
    "    iid=last_br_evts.loc[i,'item_id']\n",
    "    k=(uid,iid)\n",
    "    if k not in tmp:\n",
    "        last_br.append({'user_id':uid,'item_id':iid})\n",
    "        tmp.add(k)\n",
    "last_br=pd.DataFrame(last_br)\n",
    "\n",
    "score(val_data,last_br),score(last_day_purchase,last_br)"
   ]
  }
 ],
 "metadata": {
  "kernelspec": {
   "display_name": "Python 3",
   "language": "python",
   "name": "python3"
  },
  "language_info": {
   "codemirror_mode": {
    "name": "ipython",
    "version": 3
   },
   "file_extension": ".py",
   "mimetype": "text/x-python",
   "name": "python",
   "nbconvert_exporter": "python",
   "pygments_lexer": "ipython3",
   "version": "3.5.3"
  }
 },
 "nbformat": 4,
 "nbformat_minor": 2
}
