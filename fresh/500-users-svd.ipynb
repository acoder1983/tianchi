{
 "cells": [
  {
   "cell_type": "code",
   "execution_count": 1,
   "metadata": {},
   "outputs": [],
   "source": [
    "import numpy as np\n",
    "import pandas as pd\n",
    "from time import time\n",
    "from sklearn.linear_model import LogisticRegression\n",
    "from sklearn.model_selection import cross_val_score\n",
    "from sklearn.model_selection import train_test_split\n",
    "from sklearn.linear_model import LogisticRegression\n",
    "from sklearn.metrics import roc_auc_score,mean_squared_error\n",
    "\n",
    "%matplotlib inline"
   ]
  },
  {
   "cell_type": "code",
   "execution_count": 2,
   "metadata": {},
   "outputs": [],
   "source": [
    "total_events=pd.read_csv('raw_data/500_users_events.csv')\n",
    "action_types=['browsed','collected','carted','bought']"
   ]
  },
  {
   "cell_type": "code",
   "execution_count": 3,
   "metadata": {},
   "outputs": [
    {
     "data": {
      "text/plain": [
       "'total events 571688, total users 500, total items 198786'"
      ]
     },
     "execution_count": 3,
     "metadata": {},
     "output_type": "execute_result"
    }
   ],
   "source": [
    "total_users=set(total_events.user_id.unique())\n",
    "total_items=set(total_events.item_id.unique())\n",
    "'total events %d, total users %d, total items %d' % (len(total_events),len(total_users), len(total_items))"
   ]
  },
  {
   "cell_type": "code",
   "execution_count": 4,
   "metadata": {},
   "outputs": [],
   "source": [
    "# behaves=total_events[['user_id','item_id','behavior_type','time']].pivot_table(index=['user_id','item_id'],columns='behavior_type',aggfunc='count').fillna(0)\n",
    "# behaves.columns=action_types"
   ]
  },
  {
   "cell_type": "code",
   "execution_count": 5,
   "metadata": {},
   "outputs": [],
   "source": [
    "# behaves.browsed.hist(bins=100,figsize=(20,5))"
   ]
  },
  {
   "cell_type": "code",
   "execution_count": 6,
   "metadata": {},
   "outputs": [],
   "source": [
    "# 'average user events %d' % (len(total_events)//len(total_users))"
   ]
  },
  {
   "cell_type": "code",
   "execution_count": 7,
   "metadata": {},
   "outputs": [],
   "source": [
    "# total_events.groupby('user_id').count()[['item_id']][lambda df:df.item_id<2000].hist(bins=100,figsize=(20,5))"
   ]
  },
  {
   "cell_type": "code",
   "execution_count": 8,
   "metadata": {},
   "outputs": [],
   "source": [
    "# behaves.corr()"
   ]
  },
  {
   "cell_type": "code",
   "execution_count": 9,
   "metadata": {},
   "outputs": [],
   "source": [
    "# behaves['label']=behaves.bought.apply(lambda b:1. if b>0 else 0.)\n",
    "\n",
    "# buy_behaves=behaves[behaves.label==1]\n",
    "# nbuy_behaves=behaves[behaves.label==0]\n",
    "\n",
    "# sample_nbuy_idx=np.random.choice(len(nbuy_behaves),len(buy_behaves))\n",
    "# sample_behaves=pd.concat([buy_behaves,nbuy_behaves.iloc[sample_nbuy_idx]])\n",
    "# assert(len(sample_behaves[sample_behaves.label==0])==len(sample_behaves[sample_behaves.label==1]))\n",
    "\n",
    "# X_train,X_test,y_train,y_test=train_test_split(sample_behaves[['browsed']],sample_behaves[['label']],test_size=.2)\n",
    "\n",
    "# lr=LogisticRegression()\n",
    "# lr.fit(X_train,y_train)\n",
    "# roc_auc_score(y_train,lr.predict_proba(X_train)[:,1])"
   ]
  },
  {
   "cell_type": "code",
   "execution_count": 10,
   "metadata": {},
   "outputs": [],
   "source": [
    "# from sklearn.preprocessing import StandardScaler,MinMaxScaler,RobustScaler\n",
    "\n",
    "# ss=MinMaxScaler()\n",
    "# behaves['browsed_std']=ss.fit_transform(behaves[['browsed']])\n",
    "# behaves['rating']=behaves['browsed_std']+behaves['label']\n",
    "\n",
    "# behaves.describe()"
   ]
  },
  {
   "cell_type": "code",
   "execution_count": 11,
   "metadata": {
    "scrolled": true
   },
   "outputs": [],
   "source": [
    "# behaves[behaves.rating<1].rating.hist(bins=100,figsize=(20,6))"
   ]
  },
  {
   "cell_type": "code",
   "execution_count": 12,
   "metadata": {},
   "outputs": [],
   "source": [
    "# bought_events=total_events[total_events.behavior_type==4]\n",
    "# bought_behaves=bought_events[['user_id','item_id','behavior_type']].pivot_table(index='user_id',columns='item_id',aggfunc='count').fillna(0)\n",
    "# isbought=bought_behaves.apply(lambda c:c.apply(lambda x:1 if x>0 else 0))\n",
    "# isbought.columns=isbought.columns.levels[1]"
   ]
  },
  {
   "cell_type": "code",
   "execution_count": 13,
   "metadata": {},
   "outputs": [],
   "source": [
    "# browsed_events=total_events[total_events.behavior_type==1]\n",
    "# browsed_behaves=browsed_events[['user_id','item_id','behavior_type']].pivot_table(index='user_id',columns='item_id',aggfunc='count').fillna(0)\n",
    "# browsed=pd.DataFrame(ss.fit_transform(browsed_behaves),index=browsed_behaves.index,columns=browsed_behaves.columns.levels[1])\n",
    "# browsed.head()"
   ]
  },
  {
   "cell_type": "code",
   "execution_count": 14,
   "metadata": {},
   "outputs": [],
   "source": [
    "from sklearn.preprocessing import StandardScaler,MinMaxScaler,RobustScaler\n",
    "\n",
    "ss=MinMaxScaler()\n",
    "\n",
    "# behave_summ=total_events[['user_id','item_id','behavior_type','time']].pivot_table(index='user_id',columns=['behavior_type','item_id'],aggfunc='count').fillna(0)\n",
    "\n",
    "# br=behave_summ['time',1]\n",
    "# bo=behave_summ['time',4]\n",
    "# bo=bo.apply(lambda c:c.apply(lambda x:1 if x>0 else 0))\n",
    "# br=pd.DataFrame(ss.fit_transform(br),index=br.index,columns=br.columns)\n",
    "\n",
    "# same_cols=br.columns&bo.columns\n",
    "\n",
    "# ratings_mat=br[same_cols]+bo[same_cols]\n",
    "# ratings_mat=ratings_mat.join(bo[bo.columns^same_cols]).join(br[br.columns^same_cols])\n",
    "\n",
    "# br.shape,bo.shape,ratings_mat.shape,np.max(ratings_mat.values.reshape(-1,1)),np.min(ratings_mat.values.reshape(-1,1))"
   ]
  },
  {
   "cell_type": "code",
   "execution_count": 15,
   "metadata": {},
   "outputs": [
    {
     "name": "stderr",
     "output_type": "stream",
     "text": [
      "C:\\Users\\zhouqi\\AppData\\Local\\Continuum\\anaconda3\\lib\\site-packages\\sklearn\\utils\\validation.py:475: DataConversionWarning: Data with input dtype int64 was converted to float64 by MinMaxScaler.\n",
      "  warnings.warn(msg, DataConversionWarning)\n"
     ]
    },
    {
     "data": {
      "text/html": [
       "<div>\n",
       "<style scoped>\n",
       "    .dataframe tbody tr th:only-of-type {\n",
       "        vertical-align: middle;\n",
       "    }\n",
       "\n",
       "    .dataframe tbody tr th {\n",
       "        vertical-align: top;\n",
       "    }\n",
       "\n",
       "    .dataframe thead th {\n",
       "        text-align: right;\n",
       "    }\n",
       "</style>\n",
       "<table border=\"1\" class=\"dataframe\">\n",
       "  <thead>\n",
       "    <tr style=\"text-align: right;\">\n",
       "      <th></th>\n",
       "      <th>rating</th>\n",
       "    </tr>\n",
       "  </thead>\n",
       "  <tbody>\n",
       "    <tr>\n",
       "      <th>count</th>\n",
       "      <td>218435.000000</td>\n",
       "    </tr>\n",
       "    <tr>\n",
       "      <th>mean</th>\n",
       "      <td>0.032333</td>\n",
       "    </tr>\n",
       "    <tr>\n",
       "      <th>std</th>\n",
       "      <td>0.157203</td>\n",
       "    </tr>\n",
       "    <tr>\n",
       "      <th>min</th>\n",
       "      <td>0.000000</td>\n",
       "    </tr>\n",
       "    <tr>\n",
       "      <th>25%</th>\n",
       "      <td>0.000000</td>\n",
       "    </tr>\n",
       "    <tr>\n",
       "      <th>50%</th>\n",
       "      <td>0.006211</td>\n",
       "    </tr>\n",
       "    <tr>\n",
       "      <th>75%</th>\n",
       "      <td>0.012422</td>\n",
       "    </tr>\n",
       "    <tr>\n",
       "      <th>max</th>\n",
       "      <td>2.000000</td>\n",
       "    </tr>\n",
       "  </tbody>\n",
       "</table>\n",
       "</div>"
      ],
      "text/plain": [
       "              rating\n",
       "count  218435.000000\n",
       "mean        0.032333\n",
       "std         0.157203\n",
       "min         0.000000\n",
       "25%         0.000000\n",
       "50%         0.006211\n",
       "75%         0.012422\n",
       "max         2.000000"
      ]
     },
     "execution_count": 15,
     "metadata": {},
     "output_type": "execute_result"
    }
   ],
   "source": [
    "br_summ=total_events[total_events.behavior_type==1].groupby(['user_id','item_id']).count()['behavior_type']\n",
    "br_summ=pd.DataFrame(ss.fit_transform(br_summ.values.reshape(len(br_summ),1)),index=br_summ.index,columns=['rating'])\n",
    "\n",
    "bo_summ=total_events[total_events.behavior_type==4].groupby(['user_id','item_id']).count()['behavior_type']\n",
    "bo_summ=pd.DataFrame(bo_summ.values,index=bo_summ.index,columns=['rating']).apply(lambda c:c.apply(lambda x:1 if x>0 else 0))\n",
    "\n",
    "same_idx=br_summ.index&bo_summ.index\n",
    "\n",
    "ratings=br_summ.loc[same_idx]+bo_summ.loc[same_idx]\n",
    "ratings=pd.concat([ratings,br_summ.loc[br_summ.index^same_idx],bo_summ.loc[bo_summ.index^same_idx]])\n",
    "ratings.describe()"
   ]
  },
  {
   "cell_type": "code",
   "execution_count": 16,
   "metadata": {},
   "outputs": [],
   "source": [
    "np.random.seed(42)\n",
    "X_train,X_test,y_train,y_test=train_test_split(ratings,ratings.rating,test_size=0.1)"
   ]
  },
  {
   "cell_type": "markdown",
   "metadata": {},
   "source": [
    "## svd"
   ]
  },
  {
   "cell_type": "code",
   "execution_count": 17,
   "metadata": {},
   "outputs": [
    {
     "name": "stdout",
     "output_type": "stream",
     "text": [
      "{'factors': 10, 'epsilon': 100.0, 'alpha': 0.01, 'learning_rate': 0.1, 'max_iter': 200}\n",
      "2018-02-23 21:02:10: iter 1, cost 211812.53\n",
      "2018-02-23 21:04:13: iter 2, cost 151537.90\n",
      "2018-02-23 21:06:19: iter 3, cost 80962.57\n",
      "2018-02-23 21:08:22: iter 4, cost 35349.03\n",
      "2018-02-23 21:10:24: iter 5, cost 18049.86\n",
      "2018-02-23 21:12:21: iter 6, cost 11070.05\n",
      "2018-02-23 21:14:13: iter 7, cost 7881.76\n",
      "2018-02-23 21:16:11: iter 8, cost 6187.12\n",
      "2018-02-23 21:18:15: iter 9, cost 5135.10\n",
      "2018-02-23 21:20:07: iter 10, cost 4454.12\n",
      "2018-02-23 21:22:00: iter 11, cost 4011.11\n",
      "2018-02-23 21:24:02: iter 12, cost 3714.42\n",
      "2018-02-23 21:26:14: iter 13, cost 3505.71\n",
      "2018-02-23 21:28:10: iter 14, cost 3351.81\n",
      "2018-02-23 21:29:59: iter 15, cost 3234.13\n",
      "2018-02-23 21:31:49: iter 16, cost 3141.74\n",
      "time cost 1904\n"
     ]
    },
    {
     "data": {
      "text/plain": [
       "'error 0.885'"
      ]
     },
     "execution_count": 17,
     "metadata": {},
     "output_type": "execute_result"
    }
   ],
   "source": [
    "from svd import Svd\n",
    "t=time()\n",
    "svd1=Svd(factors=10,learning_rate=0.1,alpha=0.01,max_iter=200,epsilon=1e2)\n",
    "svd1.fit_factors_all(X_train,y_train)\n",
    "print('time cost %d'%int(time()-t))\n",
    "'error %.3f'%mean_squared_error(y_test,svd1.predict(X_test))"
   ]
  },
  {
   "cell_type": "code",
   "execution_count": 18,
   "metadata": {},
   "outputs": [
    {
     "data": {
      "text/plain": [
       "'error 0.885'"
      ]
     },
     "execution_count": 18,
     "metadata": {},
     "output_type": "execute_result"
    }
   ],
   "source": [
    "'error %.3f'%mean_squared_error(y_test,svd1.predict(X_test))"
   ]
  }
 ],
 "metadata": {
  "kernelspec": {
   "display_name": "Python 3",
   "language": "python",
   "name": "python3"
  },
  "language_info": {
   "codemirror_mode": {
    "name": "ipython",
    "version": 3
   },
   "file_extension": ".py",
   "mimetype": "text/x-python",
   "name": "python",
   "nbconvert_exporter": "python",
   "pygments_lexer": "ipython3",
   "version": "3.6.4"
  }
 },
 "nbformat": 4,
 "nbformat_minor": 2
}
