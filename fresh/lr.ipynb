{
 "cells": [
  {
   "cell_type": "code",
   "execution_count": null,
   "metadata": {
    "collapsed": true
   },
   "outputs": [],
   "source": [
    "import numpy as np\n",
    "import pandas as pd\n",
    "from time import time\n",
    "%matplotlib inline"
   ]
  },
  {
   "cell_type": "code",
   "execution_count": null,
   "metadata": {
    "collapsed": true
   },
   "outputs": [],
   "source": [
    "all_events=pd.read_csv('raw_data/tianchi_fresh_comp_train_user.csv')\n",
    "part_events=pd.read_csv('raw_data/partial_events.csv')\n",
    "all_items=pd.read_csv('raw_data/tianchi_fresh_comp_train_item.csv')\n",
    "target_items=set(all_items.item_id)\n",
    "action_types=['browsed','collected','carted','bought']"
   ]
  },
  {
   "cell_type": "code",
   "execution_count": null,
   "metadata": {
    "collapsed": true
   },
   "outputs": [],
   "source": [
    "def score(y_true,y_pred):\n",
    "    true_vals=set((y_true.user_id.apply(lambda u:str(u))+'_'+y_true.item_id.apply(lambda i:str(i))).unique())\n",
    "    pred_vals=set((y_pred.user_id.apply(lambda u:str(u))+'_'+y_pred.item_id.apply(lambda i:str(i))).unique())\n",
    "    hits=len(list(filter(lambda x:x in true_vals,pred_vals)))\n",
    "    prec=hits/len(y_pred)\n",
    "    rec=hits/len(y_true)\n",
    "    return 2*prec*rec/(prec+rec),prec,rec"
   ]
  },
  {
   "cell_type": "markdown",
   "metadata": {},
   "source": [
    "start from 1st day\n",
    "\n",
    "use 1st day's data as observed features\n",
    "\n",
    "labeled with the 2nd day"
   ]
  },
  {
   "cell_type": "code",
   "execution_count": null,
   "metadata": {
    "collapsed": true
   },
   "outputs": [],
   "source": [
    "feature_cols=action_types\n",
    "def prepare_train(train_events,beg_day,during=3):\n",
    "    train_events['time']=pd.DatetimeIndex(train_events.time)\n",
    "    end_day=beg_day+pd.Timedelta(during,'d')\n",
    "\n",
    "    x_events=train_events[np.logical_and(train_events.time>=beg_day,train_events.time<end_day)]\n",
    "    y_events=train_events[np.logical_and(train_events.time>=end_day,train_events.time<end_day+pd.Timedelta(1,'d'))]\n",
    "\n",
    "    buy_events=y_events[y_events.behavior_type==4]\n",
    "    buy_user_items=set(['a'])\n",
    "    for i in buy_events.index:\n",
    "        uid=buy_events.loc[i,'user_id']\n",
    "        iid=buy_events.loc[i,'item_id']\n",
    "        k=(uid,iid)\n",
    "        if k not in buy_user_items:\n",
    "            buy_user_items.add(k)\n",
    "    buy_user_items.discard('a')\n",
    "    buy_user_items_visited=set(filter(lambda x:len(x_events[(x_events.user_id==x[0]) & (x_events.item_id==x[1])])>0,buy_user_items))\n",
    "    \n",
    "    y_val=buy_events[buy_events.item_id.apply(lambda iid:iid in target_items)]\n",
    "\n",
    "    x_train=[]\n",
    "    y_train=[]\n",
    "    \n",
    "    not_buy_user_items=set(['a'])\n",
    "    for i in x_events.index:\n",
    "        if len(y_train)== len(buy_user_items_visited)*2:\n",
    "            break\n",
    "        uid=x_events.loc[i,'user_id']\n",
    "        iid=x_events.loc[i,'item_id']\n",
    "        k=(uid,iid)\n",
    "        features={}        \n",
    "        if k in buy_user_items_visited:\n",
    "            features['user_id']=uid\n",
    "            features['item_id']=iid\n",
    "            evts=x_events[(x_events.user_id==uid) & (x_events.item_id==iid)]\n",
    "            for i,t in enumerate(action_types):\n",
    "                features[t]=len(evts[evts.behavior_type==i+1])\n",
    "            y_train.append(1)\n",
    "            x_train.append(features)\n",
    "            continue\n",
    "\n",
    "        if k not in not_buy_user_items and len(not_buy_user_items)<len(buy_user_items_visited):\n",
    "            features['user_id']=uid\n",
    "            features['item_id']=iid\n",
    "            evts=x_events[(x_events.user_id==uid) & (x_events.item_id==iid)]\n",
    "            for i,t in enumerate(action_types):\n",
    "                features[t]=len(evts[evts.behavior_type==i+1])\n",
    "            y_train.append(0)\n",
    "            x_train.append(features)\n",
    "            not_buy_user_items.add(k)\n",
    "            continue\n",
    "\n",
    "    return pd.DataFrame(x_train), y_train,y_val\n",
    "\n",
    "def prepare_test(train_events,during=3):\n",
    "    last_time=train_events.time.sort_values().iloc[-1]\n",
    "    beg_day=last_time-pd.Timedelta(during,'d')\n",
    "\n",
    "    test_data=[]\n",
    "    test_events=train_events[train_events.time>=beg_day]\n",
    "    user_items=set(['a'])\n",
    "    for i in test_events.index:\n",
    "        uid=test_events.loc[i,'user_id']\n",
    "        iid=test_events.loc[i,'item_id']\n",
    "        k=(uid,iid)\n",
    "        if k not in user_items:\n",
    "            features={}\n",
    "            features['user_id']=uid\n",
    "            features['item_id']=iid\n",
    "            evts=test_events[(test_events.user_id==uid) & (test_events.item_id==iid)]\n",
    "            for i,t in enumerate(action_types):\n",
    "                features[t]=len(evts[evts.behavior_type==i+1])\n",
    "            test_data.append(features)\n",
    "            user_items.add(k)\n",
    "            \n",
    "    return pd.DataFrame(test_data)\n",
    "\n",
    "\n"
   ]
  },
  {
   "cell_type": "code",
   "execution_count": null,
   "metadata": {},
   "outputs": [],
   "source": [
    "x_train.describe()"
   ]
  },
  {
   "cell_type": "code",
   "execution_count": null,
   "metadata": {},
   "outputs": [],
   "source": [
    "from sklearn.linear_model import LogisticRegression\n",
    "ti=time()  \n",
    "\n",
    "x_train,y_train,_=prepare_train(part_events,pd.Timestamp(year=2014,month=11,day=18))\n",
    "\n",
    "lr=LogisticRegression()\n",
    "lr.fit(x_train.drop(['user_id','item_id'],axis=1),y_train)\n",
    "lr.score(x_train.drop(['user_id','item_id'],axis=1),y_train),time()-ti"
   ]
  },
  {
   "cell_type": "code",
   "execution_count": null,
   "metadata": {},
   "outputs": [],
   "source": [
    "x_dev,y_dev,y_val=prepare_train(part_events,pd.Timestamp(year=2014,month=12,day=15))\n",
    "lr.score(x_dev.drop(['user_id','item_id'],axis=1),y_dev)"
   ]
  },
  {
   "cell_type": "code",
   "execution_count": null,
   "metadata": {},
   "outputs": [],
   "source": [
    "x_dev['label']=y_dev\n",
    "score(y_val,x_dev[x_dev.label==1])"
   ]
  },
  {
   "cell_type": "code",
   "execution_count": null,
   "metadata": {},
   "outputs": [],
   "source": [
    "ti=time()  \n",
    "\n",
    "x_train,y_train,_=prepare_train(all_events,pd.Timestamp(year=2014,month=11,day=18),during=1)\n",
    "\n",
    "x_dev,y_dev,y_val=prepare_train(all_events,pd.Timestamp(year=2014,month=12,day=10),during=1)\n",
    "\n",
    "time()-ti"
   ]
  },
  {
   "cell_type": "code",
   "execution_count": null,
   "metadata": {},
   "outputs": [],
   "source": [
    "lr=LogisticRegression()\n",
    "lr.fit(x_train[feature_cols],y_train)\n",
    "lr.score(x_train[feature_cols],y_train)"
   ]
  },
  {
   "cell_type": "code",
   "execution_count": null,
   "metadata": {},
   "outputs": [],
   "source": [
    "x_dev,y_dev,y_val=prepare_train(all_events,pd.Timestamp(year=2014,month=12,day=10),during=1)\n",
    "lr.score(x_dev[feature_cols],y_dev)"
   ]
  },
  {
   "cell_type": "code",
   "execution_count": null,
   "metadata": {},
   "outputs": [],
   "source": [
    "x_dev['label']=y_dev\n",
    "score(y_val,x_dev[(x_dev.label==1)])"
   ]
  },
  {
   "cell_type": "code",
   "execution_count": null,
   "metadata": {
    "collapsed": true
   },
   "outputs": [],
   "source": [
    "ti=time()\n",
    "test_data=prepare_test(all_events,during=3)\n",
    "test_data['prob']=lr.predict_proba(test_data[feature_cols])[:,1]\n",
    "\n",
    "time()-ti"
   ]
  },
  {
   "cell_type": "code",
   "execution_count": null,
   "metadata": {
    "collapsed": true
   },
   "outputs": [],
   "source": [
    "preds=test_data.sort_values('prob',ascending=False)[lambda df:df.item_id.apply(lambda iid:iid in target_items)]"
   ]
  },
  {
   "cell_type": "code",
   "execution_count": null,
   "metadata": {},
   "outputs": [],
   "source": [
    "preds.iloc[1000].prob"
   ]
  },
  {
   "cell_type": "code",
   "execution_count": null,
   "metadata": {},
   "outputs": [],
   "source": [
    "test_data['label']=lr.predict(test_data[feature_cols])\n",
    "len(test_data[test_data.label==1]),np.sum(test_data.label)"
   ]
  },
  {
   "cell_type": "code",
   "execution_count": null,
   "metadata": {
    "collapsed": true
   },
   "outputs": [],
   "source": [
    "preds[:1000][['user_id','item_id']].to_csv('output/lr_1day_top1000.csv',index=False)"
   ]
  }
 ],
 "metadata": {
  "kernelspec": {
   "display_name": "Python 3",
   "language": "python",
   "name": "python3"
  },
  "language_info": {
   "codemirror_mode": {
    "name": "ipython",
    "version": 3
   },
   "file_extension": ".py",
   "mimetype": "text/x-python",
   "name": "python",
   "nbconvert_exporter": "python",
   "pygments_lexer": "ipython3",
   "version": "3.5.3"
  }
 },
 "nbformat": 4,
 "nbformat_minor": 2
}
