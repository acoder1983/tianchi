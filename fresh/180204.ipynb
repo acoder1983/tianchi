{
 "cells": [
  {
   "cell_type": "markdown",
   "metadata": {},
   "source": [
    "# thoughts"
   ]
  },
  {
   "cell_type": "markdown",
   "metadata": {},
   "source": [
    "- pred buy users first\n",
    "- get users' viewed item categories\n",
    "- filter by the target cates\n",
    "- select the top buy items of the cate"
   ]
  },
  {
   "cell_type": "code",
   "execution_count": null,
   "metadata": {
    "collapsed": true
   },
   "outputs": [],
   "source": [
    "import numpy as np\n",
    "import pandas as pd\n",
    "from time import time\n",
    "from sklearn.linear_model import LogisticRegression\n",
    "from sklearn.model_selection import cross_val_score\n",
    "\n",
    "%matplotlib inline"
   ]
  },
  {
   "cell_type": "code",
   "execution_count": null,
   "metadata": {
    "collapsed": true
   },
   "outputs": [],
   "source": [
    "np.random.seed(1)\n",
    "\n",
    "part_events=pd.read_csv('raw_data/partial_events.csv')\n",
    "part_events['time']=pd.DatetimeIndex(part_events.time)\n",
    "\n",
    "all_items=pd.read_csv('raw_data/tianchi_fresh_comp_train_item.csv')\n",
    "target_items=set(all_items.item_id)\n",
    "target_cates=set(all_items.item_category)\n",
    "target_item_cates={}\n",
    "for i in all_items.index:\n",
    "    target_item_cates[all_items.loc[i,'item_id']]=all_items.loc[i,'item_category']\n",
    "    \n",
    "action_types=['browsed','collected','carted','bought']"
   ]
  },
  {
   "cell_type": "code",
   "execution_count": null,
   "metadata": {
    "collapsed": true
   },
   "outputs": [],
   "source": []
  },
  {
   "cell_type": "code",
   "execution_count": null,
   "metadata": {
    "collapsed": true
   },
   "outputs": [],
   "source": [
    "def score(y_true,y_pred):\n",
    "    true_vals=set((y_true.user_id.apply(lambda u:str(u))+'_'+y_true.item_id.apply(lambda i:str(i))).unique())\n",
    "    pred_vals=set((y_pred.user_id.apply(lambda u:str(u))+'_'+y_pred.item_id.apply(lambda i:str(i))).unique())\n",
    "    hits=len(list(filter(lambda x:x in true_vals,pred_vals)))\n",
    "    prec=hits/len(y_pred)\n",
    "    rec=hits/len(y_true)\n",
    "    return 2*prec*rec/(prec+rec),prec,rec"
   ]
  },
  {
   "cell_type": "markdown",
   "metadata": {},
   "source": [
    "## train"
   ]
  },
  {
   "cell_type": "code",
   "execution_count": null,
   "metadata": {
    "collapsed": true
   },
   "outputs": [],
   "source": [
    "def prepare(events,obs_day,buy_day):\n",
    "\n",
    "    obs_events=events[(events.time>=obs_day)&(events.time<buy_day)]\n",
    "    buy_events=events[(events.behavior_type==4)&(events.time>=buy_day)&(events.time<buy_day+pd.Timedelta(1,'d'))]\n",
    "    buy_users=set(buy_events.user_id.unique())\n",
    "\n",
    "    obs_data=obs_events[['user_id','behavior_type','item_id']].pivot_table(index='user_id',columns='behavior_type',aggfunc='count').fillna(0)\n",
    "    obs_data.columns=action_types\n",
    "    obs_data['label']=[int(u in buy_users) for u in obs_data.index]\n",
    "\n",
    "    buy_data=obs_data[obs_data.label==1]\n",
    "    not_buy_data=obs_data[obs_data.label==0]\n",
    "    not_buy_data=not_buy_data.loc[np.random.choice(not_buy_data.index,len(buy_data),replace=False)]\n",
    "\n",
    "    train_data=pd.concat([buy_data,not_buy_data])\n",
    "    X_train=train_data.drop('label',axis=1)\n",
    "    y_train=train_data['label']\n",
    "    \n",
    "    return X_train,y_train\n",
    "    "
   ]
  },
  {
   "cell_type": "code",
   "execution_count": null,
   "metadata": {},
   "outputs": [],
   "source": [
    "obs_day=pd.Timestamp(year=2014,month=12,day=14)\n",
    "buy_day=pd.Timestamp(year=2014,month=12,day=15)\n",
    "\n",
    "X_train,y_train=prepare(part_events,obs_day,buy_day)\n",
    "\n",
    "lr=LogisticRegression()\n",
    "lr.fit(X_train,y_train)\n",
    "\n"
   ]
  },
  {
   "cell_type": "code",
   "execution_count": null,
   "metadata": {
    "collapsed": true
   },
   "outputs": [],
   "source": [
    "obs_day=pd.Timestamp(year=2014,month=12,day=16)\n",
    "buy_day=pd.Timestamp(year=2014,month=12,day=17)\n",
    "\n",
    "X_dev,y_dev=prepare(part_events,obs_day,buy_day)\n",
    "X_dev['label']=lr.predict(X_dev)\n"
   ]
  },
  {
   "cell_type": "code",
   "execution_count": null,
   "metadata": {
    "collapsed": true
   },
   "outputs": [],
   "source": [
    "def get_truth(events,buy_day):\n",
    "    return events[(events.behavior_type==4)&(events.time>=buy_day)&(events.time<buy_day+pd.Timedelta(1,'d'))][lambda df:df.item_id.apply(lambda i: i in target_items)]"
   ]
  },
  {
   "cell_type": "code",
   "execution_count": null,
   "metadata": {
    "collapsed": true
   },
   "outputs": [],
   "source": [
    "pred_users=X_dev[X_dev.label==1].index\n",
    "\n",
    "events=part_events\n",
    "# def predict(events,obs_day,buy_day):\n",
    "pred_user_items=[]\n",
    "most_pop_cate_items={}\n",
    "\n",
    "\n",
    "events=events[lambda df:df.item_category.apply(lambda c:c in target_cates)]\n",
    "\n",
    "items_table=events[['item_id','behavior_type','time']].pivot_table(index='item_id',\n",
    "                                                                columns='behavior_type',aggfunc='count').fillna(0)\n",
    "items_table.columns=action_types\n",
    "items_table['item_category']=[target_item_cates[i] for i in items_table.index]\n",
    "\n",
    "obs_events=events[(events.time>=obs_day)&(events.time<buy_day)]\n",
    "for u in pred_users:\n",
    "    item_cates=obs_events[obs_events.user_id==u].item_category.unique()\n",
    "    for ic in item_cates:\n",
    "        if ic not in most_pop_cate_items:\n",
    "            most_buy_item=items_table[items_table.item_category==ic].sort_values('bought',ascending=False).index[0]\n",
    "            most_pop_cate_items[ic]=most_buy_item\n",
    "        pred_user_items.append({'user_id':u,'item_id':most_pop_cate_items[ic]})\n",
    "\n",
    "y_pred=pd.DataFrame(pred_user_items)\n",
    "\n"
   ]
  },
  {
   "cell_type": "code",
   "execution_count": null,
   "metadata": {},
   "outputs": [],
   "source": [
    "y_true=get_truth(part_events,buy_day)\n",
    "\n",
    "# y_pred=predict(y_true,obs_day,buy_day)\n",
    "len(y_true),len(y_pred),score(y_true,y_pred)"
   ]
  }
 ],
 "metadata": {
  "kernelspec": {
   "display_name": "Python 3",
   "language": "python",
   "name": "python3"
  },
  "language_info": {
   "codemirror_mode": {
    "name": "ipython",
    "version": 3
   },
   "file_extension": ".py",
   "mimetype": "text/x-python",
   "name": "python",
   "nbconvert_exporter": "python",
   "pygments_lexer": "ipython3",
   "version": "3.5.3"
  }
 },
 "nbformat": 4,
 "nbformat_minor": 2
}
