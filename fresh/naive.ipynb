{
 "cells": [
  {
   "cell_type": "code",
   "execution_count": null,
   "metadata": {
    "collapsed": true
   },
   "outputs": [],
   "source": [
    "import numpy as np\n",
    "import pandas as pd\n",
    "%matplotlib inline"
   ]
  },
  {
   "cell_type": "code",
   "execution_count": null,
   "metadata": {
    "collapsed": true
   },
   "outputs": [],
   "source": [
    "all_events=pd.read_csv('raw_data/tianchi_fresh_comp_train_user.csv')"
   ]
  },
  {
   "cell_type": "code",
   "execution_count": null,
   "metadata": {
    "collapsed": true
   },
   "outputs": [],
   "source": [
    "all_events['time']=pd.DatetimeIndex(all_events.time)"
   ]
  },
  {
   "cell_type": "code",
   "execution_count": null,
   "metadata": {
    "collapsed": true
   },
   "outputs": [],
   "source": [
    "all_items=pd.read_csv('raw_data/tianchi_fresh_comp_train_item.csv')\n",
    "target_items=set(all_items.item_id)"
   ]
  },
  {
   "cell_type": "code",
   "execution_count": null,
   "metadata": {},
   "outputs": [],
   "source": [
    "all_not_browsed_events=all_events[all_events.behavior_type>1]\n",
    "all_not_browsed_events=all_not_browsed_events[all_not_browsed_events.item_id.apply(lambda id:id in target_items)]\n",
    "len(all_not_browsed_events)"
   ]
  },
  {
   "cell_type": "code",
   "execution_count": null,
   "metadata": {},
   "outputs": [],
   "source": [
    "all_not_browsed_events.time=pd.DatetimeIndex(all_not_browsed_events.time)\n",
    "last_time=all_not_browsed_events.time.sort_values().iloc[-1]\n",
    "last_day=pd.Timestamp(year=last_time.year,month=last_time.month,day=last_time.day)\n",
    "last_day_not_br_evts=all_not_browsed_events[all_not_browsed_events.time>last_day]\n",
    "len(last_day_not_br_evts)"
   ]
  },
  {
   "cell_type": "code",
   "execution_count": null,
   "metadata": {
    "collapsed": true
   },
   "outputs": [],
   "source": [
    "last_day_not_br_evts=last_day_not_br_evts[['user_id','item_id']]\n",
    "pred=[]\n",
    "for i in last_day_not_br_evts.index:\n",
    "    uid=last_day_not_br_evts.loc[i,'user_id']\n",
    "    iid=last_day_not_br_evts.loc[i,'item_id']\n",
    "    if len(last_day_not_br_evts[np.logical_and(\n",
    "        last_day_not_br_evts.user_id==uid,last_day_not_br_evts.item_id==iid)])==1:\n",
    "        pred.append({'user_id':uid,'item_id':iid})\n",
    "pred=pd.DataFrame(pred)"
   ]
  },
  {
   "cell_type": "code",
   "execution_count": null,
   "metadata": {
    "collapsed": true
   },
   "outputs": [],
   "source": [
    "pred[['user_id','item_id']].to_csv('output/last_day_not_br.csv',index=False)"
   ]
  },
  {
   "cell_type": "code",
   "execution_count": null,
   "metadata": {},
   "outputs": [],
   "source": [
    "last_day_evts=all_events[all_events.time>last_day]\n",
    "bought_items=last_day_evts[last_day_evts.behavior_type==4].item_id.unique()\n",
    "all_br_evts=all_events[all_events.behavior_type==1]\n",
    "last_br_evts=all_br_evts[all_br_evts.time>last_day]\n",
    "last_br_evts=last_br_evts[last_br_evts.item_id.apply(lambda iid:iid in target_items and iid not in bought_items)]\n",
    "len(last_br_evts)"
   ]
  },
  {
   "cell_type": "code",
   "execution_count": null,
   "metadata": {},
   "outputs": [],
   "source": [
    "pred=[]\n",
    "tmp=set(['a'])\n",
    "for i in last_br_evts.index:\n",
    "    uid=last_br_evts.loc[i,'user_id']\n",
    "    iid=last_br_evts.loc[i,'item_id']\n",
    "    k=str(uid)+'-'+str(iid)\n",
    "    c=len(last_br_evts[np.logical_and(\n",
    "        last_br_evts.user_id==uid,last_br_evts.item_id==iid)])\n",
    "    if k not in tmp and c>1:\n",
    "        pred.append({'user_id':uid,'item_id':iid,'cnt':c})\n",
    "        tmp.add(k)\n",
    "pred=pd.DataFrame(pred)\n",
    "len(pred)"
   ]
  },
  {
   "cell_type": "code",
   "execution_count": null,
   "metadata": {
    "collapsed": true
   },
   "outputs": [],
   "source": [
    "pred[pred.cnt>0][['user_id','item_id']].to_csv('output/last_most_br_c1.csv',index=False)"
   ]
  }
 ],
 "metadata": {
  "kernelspec": {
   "display_name": "Python 3",
   "language": "python",
   "name": "python3"
  },
  "language_info": {
   "codemirror_mode": {
    "name": "ipython",
    "version": 3
   },
   "file_extension": ".py",
   "mimetype": "text/x-python",
   "name": "python",
   "nbconvert_exporter": "python",
   "pygments_lexer": "ipython3",
   "version": "3.5.3"
  }
 },
 "nbformat": 4,
 "nbformat_minor": 2
}
